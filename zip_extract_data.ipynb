{
 "cells": [
  {
   "cell_type": "code",
   "execution_count": null,
   "metadata": {},
   "outputs": [],
   "source": [
    "from zipfile import ZipFile as zz\n",
    "import os\n",
    "\n",
    "zip_file_path = os.path.join(os.getcwd(),'data','202405.zip')\n",
    "\n",
    "extract_dir = 'path_to_extract_directory'\n",
    "os.makedirs(extract_dir, exist_ok=True)\n",
    "\n",
    "with zz(zip_file_path, 'r') as zip_read:\n",
    "    zip_read.extractall(extract_dir)\n",
    "\n",
    "\n",
    "def extract_nested_zips(base_path):\n",
    "    for item in os.listdir(base_path):\n",
    "        item_path = os.path.join(base_path, item)\n",
    "        if item.endswith('.zip'):\n",
    "            with zz(item_path, 'r') as inner_zip_ref:\n",
    "                inner_zip_ref.extractall(base_path)\n",
    "\n",
    "\n",
    "extraxt_path = os.path.join(os.getcwd(),extract_dir)\n",
    "extract_nested_zips(extraxt_path)"
   ]
  },
  {
   "cell_type": "code",
   "execution_count": null,
   "metadata": {},
   "outputs": [],
   "source": [
    "import pandas as pd\n",
    "import os\n",
    "\n",
    "\n",
    "def process_parquet_files(base_path):\n",
    "    dataframes_par = dict()\n",
    "    for root, dirs, files in os.walk(base_path):\n",
    "        for file in files:\n",
    "            if file.endswith('.parquet'):\n",
    "                file_path = os.path.join(os.getcwd(), root, file)\n",
    "                file_name = file[:file.rfind(\"_\")]\n",
    "                if file_name not in dataframes_par:\n",
    "                    dataframes_par[file_name] = pd.read_parquet(file_path)\n",
    "                else:\n",
    "                    dataframes_par[file_name] = pd.concat([dataframes_par[file_name], pd.read_parquet(file_path)],\n",
    "                                                          ignore_index=True)\n",
    "    return dataframes_par\n",
    "\n",
    "\n",
    "extract_dir = 'path_to_extract_directory'\n",
    "extraxt_path = os.path.join(os.getcwd(), extract_dir)\n",
    "data_frames = process_parquet_files(extraxt_path)\n",
    "\n",
    "output_dir = 'output_directory'\n",
    "os.makedirs(output_dir, exist_ok=True)\n",
    "\n",
    "for name, df in data_frames.items():\n",
    "    parquet_path = os.path.join(os.getcwd(), output_dir, f'{name}.parquet')\n",
    "    csv_path = os.path.join(os.getcwd(), output_dir, f'{name}.csv')\n",
    "    df.to_parquet(parquet_path)\n",
    "    df.to_csv(csv_path, index=False)\n",
    "\n",
    "print(\"Data frames have been saved as Parquet and CSV files.\")\n"
   ]
  }
 ],
 "metadata": {
  "language_info": {
   "name": "python"
  }
 },
 "nbformat": 4,
 "nbformat_minor": 2
}
